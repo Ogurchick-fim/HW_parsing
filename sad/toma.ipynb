{
 "cells": [
  {
   "cell_type": "code",
   "execution_count": 30,
   "id": "5feea2d8-37fc-4446-bac3-4f9e3b63d1dd",
   "metadata": {},
   "outputs": [],
   "source": [
    "import requests\n",
    "from bs4 import BeautifulSoup\n",
    "html_page = requests.get('https://www.house.kg/kupit-kvartiru?').content\n",
    "soup = BeautifulSoup(html_page, 'lxml')\n"
   ]
  },
  {
   "cell_type": "code",
   "execution_count": 31,
   "id": "955d11d0-862e-4bb8-9de9-c015d6364c4c",
   "metadata": {},
   "outputs": [],
   "source": [
    "lista = soup.find_all('div',class_=\"listing\")"
   ]
  },
  {
   "cell_type": "code",
   "execution_count": 32,
   "id": "b7ddd238",
   "metadata": {},
   "outputs": [
    {
     "data": {
      "text/plain": [
       "10"
      ]
     },
     "execution_count": 32,
     "metadata": {},
     "output_type": "execute_result"
    }
   ],
   "source": [
    "len(lista)"
   ]
  },
  {
   "cell_type": "code",
   "execution_count": 70,
   "id": "4ed98de3-a2ad-41dc-af87-8a04153154d8",
   "metadata": {},
   "outputs": [],
   "source": [
    "list_room=[]\n",
    "list_area=[]\n",
    "list_floor=[]\n",
    "list_floor_of=[]\n",
    "list_address=[]\n",
    "\n",
    "list_price_usd=[]\n",
    "list_price_kg=[]"
   ]
  },
  {
   "cell_type": "code",
   "execution_count": 34,
   "id": "277096b2-099f-4277-a2e8-6eae74516e58",
   "metadata": {},
   "outputs": [
    {
     "data": {
      "text/plain": [
       "0"
      ]
     },
     "execution_count": 34,
     "metadata": {},
     "output_type": "execute_result"
    }
   ],
   "source": [
    "#len(list_price_usd)"
   ]
  },
  {
   "cell_type": "code",
   "execution_count": 35,
   "id": "ee8bf28b-440e-4289-b861-ccd7adf2b81f",
   "metadata": {},
   "outputs": [],
   "source": []
  },
  {
   "cell_type": "code",
   "execution_count": 19,
   "id": "d4e856fa-42cf-4b27-8ba3-617d8982eade",
   "metadata": {},
   "outputs": [
    {
     "data": {
      "text/plain": [
       "'$ 220 000'"
      ]
     },
     "execution_count": 19,
     "metadata": {},
     "output_type": "execute_result"
    }
   ],
   "source": [
    "#lista[0].find('div',class_='price').text"
   ]
  },
  {
   "cell_type": "code",
   "execution_count": 20,
   "id": "94421dbf-c983-496a-8a3a-4d64303cb7de",
   "metadata": {},
   "outputs": [],
   "source": [
    "#a= lista[0].find('p',class_='title').text.strip().split(', ')"
   ]
  },
  {
   "cell_type": "code",
   "execution_count": 21,
   "id": "6d6b49bf-d27a-4af4-8ecb-1a00c2adfa2c",
   "metadata": {},
   "outputs": [
    {
     "data": {
      "text/plain": [
       "['4-комн. кв.', '172 м2', '2 этаж из 16']"
      ]
     },
     "execution_count": 21,
     "metadata": {},
     "output_type": "execute_result"
    }
   ],
   "source": [
    "#a"
   ]
  },
  {
   "cell_type": "code",
   "execution_count": 22,
   "id": "6508c6ed-7a57-495e-991c-431c8c5f876a",
   "metadata": {},
   "outputs": [
    {
     "data": {
      "text/plain": [
       "'Бишкек, Парк Панфилова/Спартак, Панфилова 190/1'"
      ]
     },
     "execution_count": 22,
     "metadata": {},
     "output_type": "execute_result"
    }
   ],
   "source": [
    "#lista[0].find('div',class_='address').text.strip()"
   ]
  },
  {
   "cell_type": "code",
   "execution_count": 23,
   "id": "8d587ebc-1d5b-49fa-97e9-e0f3529a848d",
   "metadata": {},
   "outputs": [
    {
     "data": {
      "text/plain": [
       "'18 563 600 сом'"
      ]
     },
     "execution_count": 23,
     "metadata": {},
     "output_type": "execute_result"
    }
   ],
   "source": [
    "#lista[0].find('div',class_='price-addition').text.strip()"
   ]
  },
  {
   "cell_type": "code",
   "execution_count": 24,
   "id": "0537c018-b1f5-4182-95f4-0cada39e8ece",
   "metadata": {},
   "outputs": [
    {
     "data": {
      "text/plain": [
       "[]"
      ]
     },
     "execution_count": 24,
     "metadata": {},
     "output_type": "execute_result"
    }
   ],
   "source": [
    "#list_price_usd"
   ]
  },
  {
   "cell_type": "code",
   "execution_count": 71,
   "id": "66409650-1959-49cd-a97d-6ed0155d2ebc",
   "metadata": {},
   "outputs": [],
   "source": [
    "\n",
    "for i in range(1,11):\n",
    "    a = f\"https://www.house.kg/kupit-kvartiru?page={i}\"\n",
    "    html_page = requests.get(a).content\n",
    "    soup = BeautifulSoup(html_page, 'lxml')\n",
    "    lista = soup.find_all('div',class_=\"listing\")\n",
    "    for apartament in lista:\n",
    "        ass = apartament.find('p',class_='title').text.strip().split(', ')\n",
    "        #list_room.append(ass[0])\n",
    "        room= int(ass[0][0])\n",
    "        \n",
    "        list_room.append(room)\n",
    "        areas = ass[1].split(' ')\n",
    "        list_area.append(float((areas[0])))\n",
    "\n",
    "        \n",
    "        floors = int(ass[2].split(' ')[0])\n",
    "        floor_of = int(ass[2].split(' ')[-1])\n",
    "\n",
    "        list_floor.append(floors)\n",
    "        list_floor_of.append(floor_of)\n",
    "        \n",
    "        list_address.append(apartament.find('div',class_='address').text.strip())\n",
    "        \n",
    "        priceusd = apartament.find('div',class_='price').text.split(' ')\n",
    "        list_price_usd.append(int(priceusd[1]+priceusd[2]))\n",
    "        \n",
    "        pricekg = apartament.find('div',class_='price-addition').text\n",
    "        a = pricekg.replace(\"сом\",\"\")\n",
    "        b = a.replace(\" \",\"\")\n",
    "        list_price_kg.append(int(b))"
   ]
  },
  {
   "cell_type": "code",
   "execution_count": 37,
   "id": "a5abf004-7be1-46d8-8961-f7a0e8cb1ae6",
   "metadata": {},
   "outputs": [],
   "source": [
    "import pandas as pd"
   ]
  },
  {
   "cell_type": "code",
   "execution_count": 72,
   "id": "c969c97d-ec1f-46f2-bfd7-c2c9e111e57c",
   "metadata": {},
   "outputs": [],
   "source": [
    "df =pd.DataFrame({\n",
    "    'rooms':list_room,\n",
    "    'area m^2':list_area,\n",
    "    'floor':list_floor,\n",
    "    'floor_of':list_floor_of,\n",
    "    'address':list_address,\n",
    "    'price_usd':list_price_usd,\n",
    "    'price_som':list_price_kg\n",
    "})"
   ]
  },
  {
   "cell_type": "code",
   "execution_count": 73,
   "id": "c18b9b59",
   "metadata": {},
   "outputs": [
    {
     "data": {
      "text/html": [
       "<div>\n",
       "<style scoped>\n",
       "    .dataframe tbody tr th:only-of-type {\n",
       "        vertical-align: middle;\n",
       "    }\n",
       "\n",
       "    .dataframe tbody tr th {\n",
       "        vertical-align: top;\n",
       "    }\n",
       "\n",
       "    .dataframe thead th {\n",
       "        text-align: right;\n",
       "    }\n",
       "</style>\n",
       "<table border=\"1\" class=\"dataframe\">\n",
       "  <thead>\n",
       "    <tr style=\"text-align: right;\">\n",
       "      <th></th>\n",
       "      <th>rooms</th>\n",
       "      <th>area m^2</th>\n",
       "      <th>floor</th>\n",
       "      <th>floor_of</th>\n",
       "      <th>address</th>\n",
       "      <th>price_usd</th>\n",
       "      <th>price_som</th>\n",
       "    </tr>\n",
       "  </thead>\n",
       "  <tbody>\n",
       "    <tr>\n",
       "      <th>0</th>\n",
       "      <td>4</td>\n",
       "      <td>172.00</td>\n",
       "      <td>2</td>\n",
       "      <td>16</td>\n",
       "      <td>Бишкек, Парк Панфилова/Спартак, Панфилова 190/1</td>\n",
       "      <td>220000</td>\n",
       "      <td>18563600</td>\n",
       "    </tr>\n",
       "    <tr>\n",
       "      <th>1</th>\n",
       "      <td>2</td>\n",
       "      <td>35.00</td>\n",
       "      <td>1</td>\n",
       "      <td>3</td>\n",
       "      <td>Бишкек, Восточный автовокзал, Аламединский 12/...</td>\n",
       "      <td>45500</td>\n",
       "      <td>3839290</td>\n",
       "    </tr>\n",
       "    <tr>\n",
       "      <th>2</th>\n",
       "      <td>3</td>\n",
       "      <td>64.00</td>\n",
       "      <td>12</td>\n",
       "      <td>15</td>\n",
       "      <td>Бишкек, Магистраль, Магистраль/Сухэ Батора</td>\n",
       "      <td>97000</td>\n",
       "      <td>8184860</td>\n",
       "    </tr>\n",
       "    <tr>\n",
       "      <th>3</th>\n",
       "      <td>2</td>\n",
       "      <td>78.00</td>\n",
       "      <td>7</td>\n",
       "      <td>11</td>\n",
       "      <td>Бишкек, Горького - Алма-Атинская, Горького-7-а...</td>\n",
       "      <td>89000</td>\n",
       "      <td>7509820</td>\n",
       "    </tr>\n",
       "    <tr>\n",
       "      <th>4</th>\n",
       "      <td>2</td>\n",
       "      <td>59.78</td>\n",
       "      <td>14</td>\n",
       "      <td>14</td>\n",
       "      <td>Бишкек, Горького - Алма-Атинская,  ул. Анкара ...</td>\n",
       "      <td>48422</td>\n",
       "      <td>4085848</td>\n",
       "    </tr>\n",
       "    <tr>\n",
       "      <th>...</th>\n",
       "      <td>...</td>\n",
       "      <td>...</td>\n",
       "      <td>...</td>\n",
       "      <td>...</td>\n",
       "      <td>...</td>\n",
       "      <td>...</td>\n",
       "      <td>...</td>\n",
       "    </tr>\n",
       "    <tr>\n",
       "      <th>95</th>\n",
       "      <td>5</td>\n",
       "      <td>191.00</td>\n",
       "      <td>2</td>\n",
       "      <td>10</td>\n",
       "      <td>Бишкек, Золотой квадрат, Эркиндик бульвар, 14</td>\n",
       "      <td>330000</td>\n",
       "      <td>27845400</td>\n",
       "    </tr>\n",
       "    <tr>\n",
       "      <th>96</th>\n",
       "      <td>5</td>\n",
       "      <td>250.00</td>\n",
       "      <td>12</td>\n",
       "      <td>13</td>\n",
       "      <td>Бишкек, Магистраль, Сухэ-Батора/Токомбаева</td>\n",
       "      <td>410000</td>\n",
       "      <td>34595800</td>\n",
       "    </tr>\n",
       "    <tr>\n",
       "      <th>97</th>\n",
       "      <td>1</td>\n",
       "      <td>50.00</td>\n",
       "      <td>17</td>\n",
       "      <td>17</td>\n",
       "      <td>Бишкек, Мадина</td>\n",
       "      <td>45000</td>\n",
       "      <td>3797100</td>\n",
       "    </tr>\n",
       "    <tr>\n",
       "      <th>98</th>\n",
       "      <td>1</td>\n",
       "      <td>34.00</td>\n",
       "      <td>9</td>\n",
       "      <td>9</td>\n",
       "      <td>Бишкек, Ден Сяопина - Фучика, Фучика 38/2/Рыск...</td>\n",
       "      <td>45000</td>\n",
       "      <td>3797100</td>\n",
       "    </tr>\n",
       "    <tr>\n",
       "      <th>99</th>\n",
       "      <td>1</td>\n",
       "      <td>42.80</td>\n",
       "      <td>8</td>\n",
       "      <td>9</td>\n",
       "      <td>Бишкек, Ипподром, Гагарина, 139з</td>\n",
       "      <td>48500</td>\n",
       "      <td>4092430</td>\n",
       "    </tr>\n",
       "  </tbody>\n",
       "</table>\n",
       "<p>100 rows × 7 columns</p>\n",
       "</div>"
      ],
      "text/plain": [
       "    rooms  area m^2  floor  floor_of  \\\n",
       "0       4    172.00      2        16   \n",
       "1       2     35.00      1         3   \n",
       "2       3     64.00     12        15   \n",
       "3       2     78.00      7        11   \n",
       "4       2     59.78     14        14   \n",
       "..    ...       ...    ...       ...   \n",
       "95      5    191.00      2        10   \n",
       "96      5    250.00     12        13   \n",
       "97      1     50.00     17        17   \n",
       "98      1     34.00      9         9   \n",
       "99      1     42.80      8         9   \n",
       "\n",
       "                                              address  price_usd  price_som  \n",
       "0     Бишкек, Парк Панфилова/Спартак, Панфилова 190/1     220000   18563600  \n",
       "1   Бишкек, Восточный автовокзал, Аламединский 12/...      45500    3839290  \n",
       "2          Бишкек, Магистраль, Магистраль/Сухэ Батора      97000    8184860  \n",
       "3   Бишкек, Горького - Алма-Атинская, Горького-7-а...      89000    7509820  \n",
       "4   Бишкек, Горького - Алма-Атинская,  ул. Анкара ...      48422    4085848  \n",
       "..                                                ...        ...        ...  \n",
       "95      Бишкек, Золотой квадрат, Эркиндик бульвар, 14     330000   27845400  \n",
       "96         Бишкек, Магистраль, Сухэ-Батора/Токомбаева     410000   34595800  \n",
       "97                                     Бишкек, Мадина      45000    3797100  \n",
       "98  Бишкек, Ден Сяопина - Фучика, Фучика 38/2/Рыск...      45000    3797100  \n",
       "99                   Бишкек, Ипподром, Гагарина, 139з      48500    4092430  \n",
       "\n",
       "[100 rows x 7 columns]"
      ]
     },
     "execution_count": 73,
     "metadata": {},
     "output_type": "execute_result"
    }
   ],
   "source": [
    "df"
   ]
  },
  {
   "cell_type": "code",
   "execution_count": 74,
   "id": "29dbacf8-20eb-4a46-b665-c255d8b7e32c",
   "metadata": {},
   "outputs": [
    {
     "name": "stdout",
     "output_type": "stream",
     "text": [
      "<class 'pandas.core.frame.DataFrame'>\n",
      "RangeIndex: 100 entries, 0 to 99\n",
      "Data columns (total 7 columns):\n",
      " #   Column     Non-Null Count  Dtype  \n",
      "---  ------     --------------  -----  \n",
      " 0   rooms      100 non-null    int64  \n",
      " 1   area m^2   100 non-null    float64\n",
      " 2   floor      100 non-null    int64  \n",
      " 3   floor_of   100 non-null    int64  \n",
      " 4   address    100 non-null    object \n",
      " 5   price_usd  100 non-null    int64  \n",
      " 6   price_som  100 non-null    int64  \n",
      "dtypes: float64(1), int64(5), object(1)\n",
      "memory usage: 5.6+ KB\n"
     ]
    }
   ],
   "source": [
    "df.info()"
   ]
  },
  {
   "cell_type": "code",
   "execution_count": 42,
   "id": "22f23838-8fa9-461e-b694-fda42694710d",
   "metadata": {},
   "outputs": [],
   "source": [
    "for i in list_floor:\n",
    "    print(int(i.split('этаж из')[1]))"
   ]
  },
  {
   "cell_type": "code",
   "execution_count": null,
   "id": "32956407-924c-483d-8a85-50378c012ba0",
   "metadata": {},
   "outputs": [],
   "source": []
  },
  {
   "cell_type": "code",
   "execution_count": null,
   "id": "27c9aead",
   "metadata": {},
   "outputs": [],
   "source": []
  }
 ],
 "metadata": {
  "kernelspec": {
   "display_name": "Python 3 (ipykernel)",
   "language": "python",
   "name": "python3"
  },
  "language_info": {
   "codemirror_mode": {
    "name": "ipython",
    "version": 3
   },
   "file_extension": ".py",
   "mimetype": "text/x-python",
   "name": "python",
   "nbconvert_exporter": "python",
   "pygments_lexer": "ipython3",
   "version": "3.9.4"
  }
 },
 "nbformat": 4,
 "nbformat_minor": 5
}
